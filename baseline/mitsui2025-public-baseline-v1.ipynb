{
 "cells": [
  {
   "cell_type": "code",
   "execution_count": null,
   "id": "4d638674",
   "metadata": {
    "_cell_guid": "b1076dfc-b9ad-4769-8c92-a6c4dae69d19",
    "_uuid": "8f2839f25d086af736a60e9eeb907d3b93b6e0e5",
    "papermill": {
     "duration": 0.00426,
     "end_time": "2025-07-25T20:33:25.760756",
     "exception": false,
     "start_time": "2025-07-25T20:33:25.756496",
     "status": "completed"
    },
    "tags": []
   },
   "outputs": [],
   "source": []
  },
  {
   "cell_type": "markdown",
   "id": "12c76c1d",
   "metadata": {
    "papermill": {
     "duration": 0.003237,
     "end_time": "2025-07-25T20:33:25.767715",
     "exception": false,
     "start_time": "2025-07-25T20:33:25.764478",
     "status": "completed"
    },
    "tags": []
   },
   "source": [
    "# **FOREWORD**\n",
    "\n",
    "This is my starter kernel for the [MITSUI&CO. Commodity Prediction Challenge](https://www.kaggle.com/competitions/mitsui-commodity-prediction-challenge) competition. Excerpts from the overview page highlight as below- <br>\n",
    "\n",
    "### **The Challenge: Aiming for More Accurate Commodity Price Forecasting**\n",
    "This competition tackles the critical need for more accurate and stable long-term commodity price predictions. Getting these predictions right has significant implications for both businesses and the global economy. Inaccurate forecasts can lead to suboptimal trading strategies, poor investment decisions, and increased financial risk for companies involved in commodity markets. By encouraging the development of advanced AI models that can accurately predict future commodity returns using historical data from LME, JPX, US Stock, and Forex, this competition aims to directly improve the precision of financial forecasting and enable the optimization of automated trading strategies.\n",
    "\n",
    "In particular, participants are challenged to predict price-difference series—derived from the time-series differences between two distinct assets’ prices—to extract robust price-movement signals as features and deploy AI-driven trading techniques that turn those signals into sustainable trading profits.\n",
    "\n",
    "### **Evaluation metric**\n",
    "The evaluation metric for the competition is a modified Sharpe ratio with the code in the kernel here. It is a custom metric explained as below- <br>\n",
    "The competition's metric is a variant of the Sharpe ratio, computed by dividing the mean Spearman rank correlation between the predictions and targets by the standard deviation. \n",
    "\n",
    "### **What I do here**\n",
    "I will start with basic FE and simple boosted tree models using a time series based cross-validation. I also illustrate the idea to submit the model to the inference API for evaluation on the public leaderboard. \n",
    "\n",
    "Wishing the best for the competition!\n"
   ]
  },
  {
   "cell_type": "markdown",
   "id": "4d2122fb",
   "metadata": {
    "papermill": {
     "duration": 0.00302,
     "end_time": "2025-07-25T20:33:25.774139",
     "exception": false,
     "start_time": "2025-07-25T20:33:25.771119",
     "status": "completed"
    },
    "tags": []
   },
   "source": [
    "# **IMPORTS**"
   ]
  },
  {
   "cell_type": "code",
   "execution_count": 1,
   "id": "404ec369",
   "metadata": {
    "_kg_hide-input": true,
    "_kg_hide-output": true,
    "execution": {
     "iopub.execute_input": "2025-07-25T20:33:25.781549Z",
     "iopub.status.busy": "2025-07-25T20:33:25.781331Z",
     "iopub.status.idle": "2025-07-25T20:34:09.783551Z",
     "shell.execute_reply": "2025-07-25T20:34:09.782562Z"
    },
    "papermill": {
     "duration": 44.007567,
     "end_time": "2025-07-25T20:34:09.785023",
     "exception": false,
     "start_time": "2025-07-25T20:33:25.777456",
     "status": "completed"
    },
    "tags": []
   },
   "outputs": [
    {
     "name": "stdout",
     "output_type": "stream",
     "text": [
      "---> Imports- part 1 done\n",
      "---> Sklearn = 1.7.1 | Pandas = 2.2.3 | Polars = 1.31.0\n",
      "---> Commencing imports-part2\n",
      "---> XGBoost = 3.0.2 | LightGBM = 4.6.0\n",
      "---> Imports- part 2 done\n",
      "---> Seeding everything\n",
      "\n",
      "---> Imports done\n",
      "\n",
      "CPU times: user 6.96 s, sys: 1.5 s, total: 8.46 s\n",
      "Wall time: 44 s\n"
     ]
    }
   ],
   "source": [
    "%%time \n",
    "\n",
    "!pip install -q lightgbm==4.6.0      --no-index --find-links=/kaggle/input/mitsui2025-public-imports-v1/packages\n",
    "!pip install -q xgboost==3.0.2       --no-index --find-links=/kaggle/input/mitsui2025-public-imports-v1/packages\n",
    "!pip install -q scikit-learn==1.7.1  --no-index --find-links=/kaggle/input/mitsui2025-public-imports-v1/packages\n",
    "!pip install -q polars==1.31.0       --no-index --find-links=/kaggle/input/mitsui2025-public-imports-v1/packages\n",
    "\n",
    "exec(open(f\"/kaggle/input/mitsui2025-public-imports-v1/myimports.py\", \"r\").read())\n",
    "exec(open(f\"/kaggle/input/mitsui2025-public-imports-v1/myutils.py\",\"r\").read())\n",
    "exec(open(f\"/kaggle/input/mitsui2025-public-imports-v1/training.py\",\"r\").read())\n",
    "\n",
    "print()"
   ]
  },
  {
   "cell_type": "markdown",
   "id": "09e58d70",
   "metadata": {
    "papermill": {
     "duration": 0.003146,
     "end_time": "2025-07-25T20:34:09.792019",
     "exception": false,
     "start_time": "2025-07-25T20:34:09.788873",
     "status": "completed"
    },
    "tags": []
   },
   "source": [
    "# **CONFIGURATION**"
   ]
  },
  {
   "cell_type": "code",
   "execution_count": 2,
   "id": "c05b350c",
   "metadata": {
    "_kg_hide-input": true,
    "execution": {
     "iopub.execute_input": "2025-07-25T20:34:09.800594Z",
     "iopub.status.busy": "2025-07-25T20:34:09.800014Z",
     "iopub.status.idle": "2025-07-25T20:34:10.056564Z",
     "shell.execute_reply": "2025-07-25T20:34:10.055834Z"
    },
    "papermill": {
     "duration": 0.262194,
     "end_time": "2025-07-25T20:34:10.057685",
     "exception": false,
     "start_time": "2025-07-25T20:34:09.795491",
     "status": "completed"
    },
    "tags": []
   },
   "outputs": [
    {
     "name": "stdout",
     "output_type": "stream",
     "text": [
      "CPU times: user 162 ms, sys: 43.6 ms, total: 205 ms\n",
      "Wall time: 247 ms\n"
     ]
    },
    {
     "data": {
      "text/plain": [
       "0"
      ]
     },
     "execution_count": 2,
     "metadata": {},
     "output_type": "execute_result"
    }
   ],
   "source": [
    "%%time\n",
    "\n",
    "utils = Utils()\n",
    "\n",
    "class CFG:\n",
    "    \"\"\"\n",
    "    Configuration class for parameters and CV strategy for tuning and training\n",
    "    Some parameters may be unused here as this is a general configuration class\n",
    "    \"\"\"\n",
    "\n",
    "    # Data preparation:-\n",
    "    version_nb         = 1\n",
    "    model_id           = \"V1_2\"\n",
    "    model_label        = \"ML\"\n",
    "    test_req           = True\n",
    "    test_iter          = 25\n",
    "    gpu_switch         = \"ON\" if torch.cuda.is_available() else \"OFF\"\n",
    "    state              = 42\n",
    "    target             = f\"target\"\n",
    "    grouper            = f\"\"\n",
    "    \n",
    "    tgt_mapper         = {}\n",
    "    \n",
    "    ip_path            = f\"/kaggle/input/mitsui-commodity-prediction-challenge\"\n",
    "    op_path            = f\"/kaggle/working\"\n",
    "    dtl_preproc_req    = False\n",
    "    ftre_plots_req     = False\n",
    "    ftre_imp_req       = False\n",
    "\n",
    "    # Model Training:-\n",
    "    pstprcs_oof        = False\n",
    "    ML                 = True\n",
    "    test_preds_req     = True\n",
    "    n_splits           = 5\n",
    "    n_repeats          = 1\n",
    "    nbrnd_erly_stp     = 0\n",
    "    mdlcv_mthd         = 'KF'\n",
    "    metric_obj         = 'maximize'\n",
    "\n",
    "    # Global variables for plotting:-\n",
    "    grid_specs = {'visible'  : True,\n",
    "                  'which'    : 'both',\n",
    "                  'linestyle': '--',\n",
    "                  'color'    : 'lightgrey',\n",
    "                  'linewidth': 0.75\n",
    "                 }\n",
    "\n",
    "    title_specs = {'fontsize'   : 9,\n",
    "                   'fontweight' : 'bold',\n",
    "                   'color'      : '#992600',\n",
    "                  }\n",
    "\n",
    "\n",
    "cv_selector = \\\n",
    "{\n",
    " \"RKF\"   : RepeatedKFold(n_splits = CFG.n_splits, n_repeats= CFG.n_repeats, random_state= CFG.state),\n",
    " \"RSKF\"  : RepeatedStratifiedKFold(n_splits  = CFG.n_splits, n_repeats= CFG.n_repeats, random_state= CFG.state),\n",
    " \"SKF\"   : StratifiedKFold(n_splits = CFG.n_splits, shuffle = True, random_state= CFG.state),\n",
    " \"KF\"    : KFold(n_splits = CFG.n_splits, shuffle = True, random_state= CFG.state),\n",
    " \"GKF\"   : GroupKFold(n_splits = CFG.n_splits)\n",
    "}\n",
    "\n",
    "collect()\n"
   ]
  },
  {
   "cell_type": "markdown",
   "id": "659e031e",
   "metadata": {
    "papermill": {
     "duration": 0.003622,
     "end_time": "2025-07-25T20:34:10.065196",
     "exception": false,
     "start_time": "2025-07-25T20:34:10.061574",
     "status": "completed"
    },
    "tags": []
   },
   "source": [
    "# **PREPROCESSING**\n",
    "\n",
    "We load the data sets here and preprocess it to have a single target column in an appended fashion as below- <br>\n",
    "- Load the datasets\n",
    "- Create a table with all features and 1 target id. This is an interim table\n",
    "- Purge off rows with null and unrealistic targets\n",
    "- Append the temporary table to a list and concatenate this at the end to host the features and a single target column\n",
    "\n",
    "Thanks to the kernel [here](https://www.kaggle.com/code/takaito/mitsui-cpc-gradient-boosting-models-training) for this idea."
   ]
  },
  {
   "cell_type": "code",
   "execution_count": 3,
   "id": "3d61d5a5",
   "metadata": {
    "_kg_hide-input": true,
    "execution": {
     "iopub.execute_input": "2025-07-25T20:34:10.073131Z",
     "iopub.status.busy": "2025-07-25T20:34:10.072897Z",
     "iopub.status.idle": "2025-07-25T20:34:10.907183Z",
     "shell.execute_reply": "2025-07-25T20:34:10.906285Z"
    },
    "papermill": {
     "duration": 0.839751,
     "end_time": "2025-07-25T20:34:10.908478",
     "exception": false,
     "start_time": "2025-07-25T20:34:10.068727",
     "status": "completed"
    },
    "tags": []
   },
   "outputs": [
    {
     "name": "stdout",
     "output_type": "stream",
     "text": [
      "\u001b[1m\u001b[34m\n",
      "---> Shape = (1917, 558) (1917, 425)\n",
      "\u001b[0m\n"
     ]
    },
    {
     "data": {
      "text/html": [
       "<style type=\"text/css\">\n",
       "</style>\n",
       "<table id=\"T_79458\">\n",
       "  <caption>Target categories by lags</caption>\n",
       "  <thead>\n",
       "    <tr>\n",
       "      <th class=\"blank level0\" >&nbsp;</th>\n",
       "      <th id=\"T_79458_level0_col0\" class=\"col_heading level0 col0\" >target</th>\n",
       "      <th id=\"T_79458_level0_col1\" class=\"col_heading level0 col1\" >pair</th>\n",
       "    </tr>\n",
       "    <tr>\n",
       "      <th class=\"index_name level0\" >lag</th>\n",
       "      <th class=\"blank col0\" >&nbsp;</th>\n",
       "      <th class=\"blank col1\" >&nbsp;</th>\n",
       "    </tr>\n",
       "  </thead>\n",
       "  <tbody>\n",
       "    <tr>\n",
       "      <th id=\"T_79458_level0_row0\" class=\"row_heading level0 row0\" >1</th>\n",
       "      <td id=\"T_79458_row0_col0\" class=\"data row0 col0\" >target_0</td>\n",
       "      <td id=\"T_79458_row0_col1\" class=\"data row0 col1\" >US_Stock_VT_adj_close</td>\n",
       "    </tr>\n",
       "    <tr>\n",
       "      <th id=\"T_79458_level0_row1\" class=\"row_heading level0 row1\" >2</th>\n",
       "      <td id=\"T_79458_row1_col0\" class=\"data row1 col0\" >target_106</td>\n",
       "      <td id=\"T_79458_row1_col1\" class=\"data row1 col1\" >US_Stock_VXUS_adj_close</td>\n",
       "    </tr>\n",
       "    <tr>\n",
       "      <th id=\"T_79458_level0_row2\" class=\"row_heading level0 row2\" >3</th>\n",
       "      <td id=\"T_79458_row2_col0\" class=\"data row2 col0\" >target_212</td>\n",
       "      <td id=\"T_79458_row2_col1\" class=\"data row2 col1\" >FX_ZARUSD</td>\n",
       "    </tr>\n",
       "    <tr>\n",
       "      <th id=\"T_79458_level0_row3\" class=\"row_heading level0 row3\" >4</th>\n",
       "      <td id=\"T_79458_row3_col0\" class=\"data row3 col0\" >target_318</td>\n",
       "      <td id=\"T_79458_row3_col1\" class=\"data row3 col1\" >FX_NOKEUR</td>\n",
       "    </tr>\n",
       "  </tbody>\n",
       "</table>\n"
      ],
      "text/plain": [
       "<pandas.io.formats.style.Styler at 0x7865455ccdd0>"
      ]
     },
     "metadata": {},
     "output_type": "display_data"
    },
    {
     "name": "stdout",
     "output_type": "stream",
     "text": [
      "\n",
      "\u001b[1m\u001b[34m\n",
      "---> Shape = (1917, 558) (90, 559) (1917, 425)\n",
      "\u001b[0m\n",
      "\n",
      "CPU times: user 547 ms, sys: 74.5 ms, total: 622 ms\n",
      "Wall time: 829 ms\n"
     ]
    }
   ],
   "source": [
    "%%time \n",
    "\n",
    "train        = pd.read_csv(f\"{CFG.ip_path}/train.csv\")\n",
    "test         = pd.read_csv(f\"{CFG.ip_path}/test.csv\")\n",
    "train_labels = pd.read_csv(f\"{CFG.ip_path}/train_labels.csv\")\n",
    "target_pairs = pd.read_csv(f\"{CFG.ip_path}/target_pairs.csv\")\n",
    "target_cols  = list( train_labels.columns[1:] )\n",
    "\n",
    "PrintColor(f\"\\n---> Shape = {train.shape} {train_labels.shape}\\n\")\n",
    "\n",
    "display(\n",
    "    target_pairs.groupby(\"lag\").first().\n",
    "    style.\n",
    "    set_caption(f\"Target categories by lags\")\n",
    ")\n",
    "\n",
    "print()\n",
    "Xtrain, Xtest = train.copy(), test.copy()\n",
    "Xtrain.index  = range(len(Xtrain))\n",
    "Ytrain        = train_labels.copy()\n",
    "\n",
    "PrintColor(f\"\\n---> Shape = {Xtrain.shape} {Xtest.shape} {Ytrain.shape}\\n\")\n",
    "\n",
    "_ = utils.CleanMemory()\n",
    "print()"
   ]
  },
  {
   "cell_type": "markdown",
   "id": "1a817e19",
   "metadata": {
    "papermill": {
     "duration": 0.003819,
     "end_time": "2025-07-25T20:34:10.916588",
     "exception": false,
     "start_time": "2025-07-25T20:34:10.912769",
     "status": "completed"
    },
    "tags": []
   },
   "source": [
    "## **INITIAL INSIGHTS**\n",
    "\n",
    "- All columns are numerical with nulls across them\n",
    "- Category columns could be hidden within the dataset, we need to check the value_counts across features to determine if any column is sparse in categories (potential category columns)\n",
    "- Analysis of nulls and outliers across individual features will be useful\n",
    "- Targets are difference of returns, hence lagged and moving period features will be useful"
   ]
  },
  {
   "cell_type": "markdown",
   "id": "2372da77",
   "metadata": {
    "papermill": {
     "duration": 0.004641,
     "end_time": "2025-07-25T20:34:10.924775",
     "exception": false,
     "start_time": "2025-07-25T20:34:10.920134",
     "status": "completed"
    },
    "tags": []
   },
   "source": [
    "# **BASELINE MODELS**\n",
    "\n",
    "We use the last 90 days as OOF data and fit an offline model for **each target** without FE. We then refit the model on the full data and store the fitted model in a dictionary for evaluation and prediction\n",
    "\n"
   ]
  },
  {
   "cell_type": "code",
   "execution_count": 4,
   "id": "0b608875",
   "metadata": {
    "_kg_hide-input": true,
    "execution": {
     "iopub.execute_input": "2025-07-25T20:34:10.933326Z",
     "iopub.status.busy": "2025-07-25T20:34:10.933083Z",
     "iopub.status.idle": "2025-07-26T00:43:18.594199Z",
     "shell.execute_reply": "2025-07-26T00:43:18.593274Z"
    },
    "papermill": {
     "duration": 14947.667094,
     "end_time": "2025-07-26T00:43:18.595528",
     "exception": false,
     "start_time": "2025-07-25T20:34:10.928434",
     "status": "completed"
    },
    "tags": []
   },
   "outputs": [
    {
     "data": {
      "application/vnd.jupyter.widget-view+json": {
       "model_id": "1ca7bb26b9c448a4b36b76a2c2f0a731",
       "version_major": 2,
       "version_minor": 0
      },
      "text/plain": [
       "  0%|          | 0/424 [00:00<?, ?it/s]"
      ]
     },
     "metadata": {},
     "output_type": "display_data"
    },
    {
     "name": "stderr",
     "output_type": "stream",
     "text": [
      "1 warning generated.\n",
      "1 warning generated.\n",
      "1 warning generated.\n",
      "1 warning generated.\n",
      "1 warning generated.\n",
      "1 warning generated.\n",
      "1 warning generated.\n",
      "1 warning generated.\n",
      "1 warning generated.\n",
      "1 warning generated.\n",
      "1 warning generated.\n",
      "1 warning generated.\n",
      "1 warning generated.\n",
      "1 warning generated.\n",
      "1 warning generated.\n",
      "1 warning generated.\n",
      "1 warning generated.\n",
      "1 warning generated.\n",
      "1 warning generated.\n",
      "1 warning generated.\n",
      "1 warning generated.\n",
      "1 warning generated.\n",
      "1 warning generated.\n",
      "1 warning generated.\n",
      "1 warning generated.\n",
      "1 warning generated.\n",
      "1 warning generated.\n",
      "1 warning generated.\n",
      "1 warning generated.\n",
      "1 warning generated.\n",
      "1 warning generated.\n",
      "1 warning generated.\n",
      "1 warning generated.\n",
      "1 warning generated.\n",
      "1 warning generated.\n",
      "1 warning generated.\n",
      "1 warning generated.\n",
      "1 warning generated.\n",
      "1 warning generated.\n",
      "1 warning generated.\n",
      "1 warning generated.\n",
      "1 warning generated.\n",
      "1 warning generated.\n",
      "1 warning generated.\n",
      "1 warning generated.\n",
      "1 warning generated.\n",
      "1 warning generated.\n",
      "1 warning generated.\n",
      "1 warning generated.\n",
      "1 warning generated.\n",
      "1 warning generated.\n",
      "1 warning generated.\n",
      "1 warning generated.\n",
      "1 warning generated.\n",
      "1 warning generated.\n",
      "1 warning generated.\n",
      "1 warning generated.\n",
      "1 warning generated.\n",
      "1 warning generated.\n",
      "1 warning generated.\n",
      "1 warning generated.\n",
      "1 warning generated.\n",
      "1 warning generated.\n",
      "1 warning generated.\n",
      "1 warning generated.\n",
      "1 warning generated.\n"
     ]
    },
    {
     "name": "stdout",
     "output_type": "stream",
     "text": [
      "\n",
      "CPU times: user 7h 51min 46s, sys: 17min 24s, total: 8h 9min 11s\n",
      "Wall time: 4h 9min 7s\n"
     ]
    }
   ],
   "source": [
    "%%time \n",
    "\n",
    "OOF_Preds    = []\n",
    "FittedModels = {}\n",
    "\n",
    "Mdl_Master = {\n",
    "\n",
    "    \"LGBM1R\" : [LGBMR(\n",
    "                        objective        = \"regression\",\n",
    "                        device           = \"cpu\" if CFG.gpu_switch == \"OFF\" else \"gpu\",\n",
    "                        n_estimators     = 200,\n",
    "                        metric           = \"rmse\",\n",
    "                        learning_rate    = 0.05,\n",
    "                        random_state     = CFG.state,\n",
    "                        verbosity        = -1,\n",
    "                    ),\n",
    "                 {\"callbacks\" : [log_evaluation(0)] },\n",
    "               ], \n",
    "\n",
    "    \"LGBM2R\" : [LGBMR(\n",
    "                        objective        = \"regression\",\n",
    "                        device           = \"cpu\" if CFG.gpu_switch == \"OFF\" else \"gpu\",\n",
    "                        n_estimators     = 225,\n",
    "                        data_sample_strategy = \"goss\",\n",
    "                        metric           = \"rmse\",\n",
    "                        learning_rate    = 0.02,\n",
    "                        reg_alpha        = 0.001,\n",
    "                        reg_lambda       = 1.25,\n",
    "                        colsample_bytree = 0.20,\n",
    "                        subsample        = 0.30,\n",
    "                        random_state     = CFG.state,\n",
    "                        verbosity        = -1,\n",
    "                    ),\n",
    "                 {\"callbacks\" : [log_evaluation(0)] },\n",
    "               ], \n",
    "    \n",
    "    \"LGBM3R\" : [LGBMR(\n",
    "                        objective        = \"regression\",\n",
    "                        device           = \"cpu\" if CFG.gpu_switch == \"OFF\" else \"gpu\",\n",
    "                        n_estimators     = 150,\n",
    "                        metric           = \"rmse\",\n",
    "                        colsample_bytree = 0.55,\n",
    "                        subsample        = 0.55,\n",
    "                        learning_rate    = 0.005,\n",
    "                        random_state     = CFG.state,\n",
    "                        verbosity        = -1,\n",
    "                    ),\n",
    "                 {\"callbacks\" : [log_evaluation(0)] },\n",
    "               ],     \n",
    "}\n",
    "\n",
    "targets   = list(train_labels.columns[1:])\n",
    "drop_cols = [\"Source\", \"date_id\", \"id\", \"row_id\", \"is_scored\"]\n",
    "scores    = {}\n",
    "\n",
    "for target in tqdm(targets):\n",
    "\n",
    "    Xtr = Xtrain.copy()\n",
    "    Xtr[target] = train_labels[target].values\n",
    "    Xtr  = Xtr.dropna(subset = target)\n",
    "    \n",
    "    Xdev = Xtr.loc[Xtr.date_id >= 1827]\n",
    "    dev_idx = Xdev[\"date_id\"].values\n",
    "    Xdev = Xdev.drop(drop_cols, axis=1, errors = \"ignore\")\n",
    "    ydev = Xdev[target]\n",
    "    del Xdev[target]\n",
    "    \n",
    "    Xtr  = Xtr.loc[Xtr.date_id < 1827].drop(drop_cols, axis=1, errors = \"ignore\")\n",
    "    ytr  = Xtr[target]\n",
    "    del Xtr[target]\n",
    "\n",
    "    scores_ = []\n",
    "    oof_    = []\n",
    "    for method, (mymodel, fit_params) in Mdl_Master.items():\n",
    "\n",
    "        model = clone(mymodel)\n",
    "        model.fit(Xtr, ytr, **fit_params)\n",
    "        dev_preds = model.predict(Xdev)\n",
    "        \n",
    "        scores_.append( root_mean_squared_error(ydev, dev_preds) )\n",
    "        _ = utils.CleanMemory()\n",
    "        oof_.append(dev_preds)\n",
    "\n",
    "    oof_ = np.mean(np.stack(oof_, axis=1), axis=1)\n",
    "    OOF_Preds.append(\n",
    "        pd.Series(oof_, index = dev_idx, name = target)\n",
    "    )\n",
    "    scores[target] = scores_\n",
    "    \n",
    "    Xtr = Xtrain.copy()\n",
    "    Xtr[target] = train_labels[target].values\n",
    "    Xtr  = Xtr.dropna(subset = target).drop(drop_cols, axis=1, errors = \"ignore\")\n",
    "    ytr  = Xtr[target]\n",
    "    del Xtr[target]\n",
    "\n",
    "    f_models = []\n",
    "    for method, (mymodel, fit_params) in Mdl_Master.items():\n",
    "    \n",
    "        model = clone(mymodel)\n",
    "        model.fit(Xtr, ytr, **fit_params)\n",
    "        f_models.append(model)\n",
    "        \n",
    "    FittedModels[target] = f_models\n",
    "    \n",
    "joblib.dump(FittedModels, \"FittedModels.joblib\")\n",
    "print()\n",
    "_ = utils.CleanMemory()"
   ]
  },
  {
   "cell_type": "markdown",
   "id": "8858073f",
   "metadata": {
    "papermill": {
     "duration": 0.005346,
     "end_time": "2025-07-26T00:43:18.606650",
     "exception": false,
     "start_time": "2025-07-26T00:43:18.601304",
     "status": "completed"
    },
    "tags": []
   },
   "source": [
    "## **CV-SCORE**"
   ]
  },
  {
   "cell_type": "code",
   "execution_count": 5,
   "id": "b9ce6d73",
   "metadata": {
    "execution": {
     "iopub.execute_input": "2025-07-26T00:43:18.618161Z",
     "iopub.status.busy": "2025-07-26T00:43:18.617901Z",
     "iopub.status.idle": "2025-07-26T00:43:19.119031Z",
     "shell.execute_reply": "2025-07-26T00:43:19.117978Z"
    },
    "papermill": {
     "duration": 0.508448,
     "end_time": "2025-07-26T00:43:19.120408",
     "exception": false,
     "start_time": "2025-07-26T00:43:18.611960",
     "status": "completed"
    },
    "tags": []
   },
   "outputs": [
    {
     "name": "stdout",
     "output_type": "stream",
     "text": [
      "\u001b[1m\u001b[34m\n",
      "---> Score = -0.00549112\n",
      "\u001b[0m\n",
      "CPU times: user 454 ms, sys: 3.08 ms, total: 457 ms\n",
      "Wall time: 496 ms\n"
     ]
    }
   ],
   "source": [
    "%%time \n",
    "\n",
    "submission            = pd.concat(OOF_Preds, axis=1).sort_index(ascending = True)\n",
    "submission[\"date_id\"] = np.array(submission.index)\n",
    "solution              = train_labels.loc[train_labels.date_id >= 1827]\n",
    "solution[\"date_id\"]   = submission[\"date_id\"].values\n",
    "\n",
    "score = \\\n",
    "utils.ScoreMetric(\n",
    "    solution,\n",
    "    submission,\n",
    "    \"date_id\"\n",
    ")\n",
    "\n",
    "PrintColor(f\"\\n---> Score = {score:,.8f}\\n\")"
   ]
  }
 ],
 "metadata": {
  "kaggle": {
   "accelerator": "nvidiaTeslaT4",
   "dataSources": [
    {
     "databundleVersionId": 13044405,
     "sourceId": 94771,
     "sourceType": "competition"
    },
    {
     "sourceId": 252435254,
     "sourceType": "kernelVersion"
    }
   ],
   "dockerImageVersionId": 31089,
   "isGpuEnabled": true,
   "isInternetEnabled": false,
   "language": "python",
   "sourceType": "notebook"
  },
  "kernelspec": {
   "display_name": "Python 3",
   "language": "python",
   "name": "python3"
  },
  "language_info": {
   "codemirror_mode": {
    "name": "ipython",
    "version": 3
   },
   "file_extension": ".py",
   "mimetype": "text/x-python",
   "name": "python",
   "nbconvert_exporter": "python",
   "pygments_lexer": "ipython3",
   "version": "3.11.13"
  },
  "papermill": {
   "default_parameters": {},
   "duration": 15000.495892,
   "end_time": "2025-07-26T00:43:21.859009",
   "environment_variables": {},
   "exception": null,
   "input_path": "__notebook__.ipynb",
   "output_path": "__notebook__.ipynb",
   "parameters": {},
   "start_time": "2025-07-25T20:33:21.363117",
   "version": "2.6.0"
  },
  "widgets": {
   "application/vnd.jupyter.widget-state+json": {
    "state": {
     "087ae5fda5ce42f5a9079c357aa672d1": {
      "model_module": "@jupyter-widgets/base",
      "model_module_version": "2.0.0",
      "model_name": "LayoutModel",
      "state": {
       "_model_module": "@jupyter-widgets/base",
       "_model_module_version": "2.0.0",
       "_model_name": "LayoutModel",
       "_view_count": null,
       "_view_module": "@jupyter-widgets/base",
       "_view_module_version": "2.0.0",
       "_view_name": "LayoutView",
       "align_content": null,
       "align_items": null,
       "align_self": null,
       "border_bottom": null,
       "border_left": null,
       "border_right": null,
       "border_top": null,
       "bottom": null,
       "display": null,
       "flex": null,
       "flex_flow": null,
       "grid_area": null,
       "grid_auto_columns": null,
       "grid_auto_flow": null,
       "grid_auto_rows": null,
       "grid_column": null,
       "grid_gap": null,
       "grid_row": null,
       "grid_template_areas": null,
       "grid_template_columns": null,
       "grid_template_rows": null,
       "height": null,
       "justify_content": null,
       "justify_items": null,
       "left": null,
       "margin": null,
       "max_height": null,
       "max_width": null,
       "min_height": null,
       "min_width": null,
       "object_fit": null,
       "object_position": null,
       "order": null,
       "overflow": null,
       "padding": null,
       "right": null,
       "top": null,
       "visibility": null,
       "width": null
      }
     },
     "199790bc27fb44fcb327cb05d3678f4c": {
      "model_module": "@jupyter-widgets/base",
      "model_module_version": "2.0.0",
      "model_name": "LayoutModel",
      "state": {
       "_model_module": "@jupyter-widgets/base",
       "_model_module_version": "2.0.0",
       "_model_name": "LayoutModel",
       "_view_count": null,
       "_view_module": "@jupyter-widgets/base",
       "_view_module_version": "2.0.0",
       "_view_name": "LayoutView",
       "align_content": null,
       "align_items": null,
       "align_self": null,
       "border_bottom": null,
       "border_left": null,
       "border_right": null,
       "border_top": null,
       "bottom": null,
       "display": null,
       "flex": null,
       "flex_flow": null,
       "grid_area": null,
       "grid_auto_columns": null,
       "grid_auto_flow": null,
       "grid_auto_rows": null,
       "grid_column": null,
       "grid_gap": null,
       "grid_row": null,
       "grid_template_areas": null,
       "grid_template_columns": null,
       "grid_template_rows": null,
       "height": null,
       "justify_content": null,
       "justify_items": null,
       "left": null,
       "margin": null,
       "max_height": null,
       "max_width": null,
       "min_height": null,
       "min_width": null,
       "object_fit": null,
       "object_position": null,
       "order": null,
       "overflow": null,
       "padding": null,
       "right": null,
       "top": null,
       "visibility": null,
       "width": null
      }
     },
     "1ca7bb26b9c448a4b36b76a2c2f0a731": {
      "model_module": "@jupyter-widgets/controls",
      "model_module_version": "2.0.0",
      "model_name": "HBoxModel",
      "state": {
       "_dom_classes": [],
       "_model_module": "@jupyter-widgets/controls",
       "_model_module_version": "2.0.0",
       "_model_name": "HBoxModel",
       "_view_count": null,
       "_view_module": "@jupyter-widgets/controls",
       "_view_module_version": "2.0.0",
       "_view_name": "HBoxView",
       "box_style": "",
       "children": [
        "IPY_MODEL_446aaafd44e5422fabd491a3b227e0f0",
        "IPY_MODEL_aca34eb127c7458787bb0aaa21b564ea",
        "IPY_MODEL_6dbfa40ac75d4f2198b5d0a3f45c41fb"
       ],
       "layout": "IPY_MODEL_087ae5fda5ce42f5a9079c357aa672d1",
       "tabbable": null,
       "tooltip": null
      }
     },
     "3c7a3a18f0924dbfa74f0bfc16c8ff95": {
      "model_module": "@jupyter-widgets/controls",
      "model_module_version": "2.0.0",
      "model_name": "HTMLStyleModel",
      "state": {
       "_model_module": "@jupyter-widgets/controls",
       "_model_module_version": "2.0.0",
       "_model_name": "HTMLStyleModel",
       "_view_count": null,
       "_view_module": "@jupyter-widgets/base",
       "_view_module_version": "2.0.0",
       "_view_name": "StyleView",
       "background": null,
       "description_width": "",
       "font_size": null,
       "text_color": null
      }
     },
     "3f013380134549a29af4e8fb8c603e1c": {
      "model_module": "@jupyter-widgets/controls",
      "model_module_version": "2.0.0",
      "model_name": "HTMLStyleModel",
      "state": {
       "_model_module": "@jupyter-widgets/controls",
       "_model_module_version": "2.0.0",
       "_model_name": "HTMLStyleModel",
       "_view_count": null,
       "_view_module": "@jupyter-widgets/base",
       "_view_module_version": "2.0.0",
       "_view_name": "StyleView",
       "background": null,
       "description_width": "",
       "font_size": null,
       "text_color": null
      }
     },
     "446aaafd44e5422fabd491a3b227e0f0": {
      "model_module": "@jupyter-widgets/controls",
      "model_module_version": "2.0.0",
      "model_name": "HTMLModel",
      "state": {
       "_dom_classes": [],
       "_model_module": "@jupyter-widgets/controls",
       "_model_module_version": "2.0.0",
       "_model_name": "HTMLModel",
       "_view_count": null,
       "_view_module": "@jupyter-widgets/controls",
       "_view_module_version": "2.0.0",
       "_view_name": "HTMLView",
       "description": "",
       "description_allow_html": false,
       "layout": "IPY_MODEL_199790bc27fb44fcb327cb05d3678f4c",
       "placeholder": "​",
       "style": "IPY_MODEL_3f013380134549a29af4e8fb8c603e1c",
       "tabbable": null,
       "tooltip": null,
       "value": "100%"
      }
     },
     "633f5e22ceac439f99bcd6673a6596d7": {
      "model_module": "@jupyter-widgets/base",
      "model_module_version": "2.0.0",
      "model_name": "LayoutModel",
      "state": {
       "_model_module": "@jupyter-widgets/base",
       "_model_module_version": "2.0.0",
       "_model_name": "LayoutModel",
       "_view_count": null,
       "_view_module": "@jupyter-widgets/base",
       "_view_module_version": "2.0.0",
       "_view_name": "LayoutView",
       "align_content": null,
       "align_items": null,
       "align_self": null,
       "border_bottom": null,
       "border_left": null,
       "border_right": null,
       "border_top": null,
       "bottom": null,
       "display": null,
       "flex": null,
       "flex_flow": null,
       "grid_area": null,
       "grid_auto_columns": null,
       "grid_auto_flow": null,
       "grid_auto_rows": null,
       "grid_column": null,
       "grid_gap": null,
       "grid_row": null,
       "grid_template_areas": null,
       "grid_template_columns": null,
       "grid_template_rows": null,
       "height": null,
       "justify_content": null,
       "justify_items": null,
       "left": null,
       "margin": null,
       "max_height": null,
       "max_width": null,
       "min_height": null,
       "min_width": null,
       "object_fit": null,
       "object_position": null,
       "order": null,
       "overflow": null,
       "padding": null,
       "right": null,
       "top": null,
       "visibility": null,
       "width": null
      }
     },
     "6dbfa40ac75d4f2198b5d0a3f45c41fb": {
      "model_module": "@jupyter-widgets/controls",
      "model_module_version": "2.0.0",
      "model_name": "HTMLModel",
      "state": {
       "_dom_classes": [],
       "_model_module": "@jupyter-widgets/controls",
       "_model_module_version": "2.0.0",
       "_model_name": "HTMLModel",
       "_view_count": null,
       "_view_module": "@jupyter-widgets/controls",
       "_view_module_version": "2.0.0",
       "_view_name": "HTMLView",
       "description": "",
       "description_allow_html": false,
       "layout": "IPY_MODEL_7649436a72d44737861d7b0ee3d393be",
       "placeholder": "​",
       "style": "IPY_MODEL_3c7a3a18f0924dbfa74f0bfc16c8ff95",
       "tabbable": null,
       "tooltip": null,
       "value": " 424/424 [4:08:57&lt;00:00, 35.42s/it]"
      }
     },
     "7649436a72d44737861d7b0ee3d393be": {
      "model_module": "@jupyter-widgets/base",
      "model_module_version": "2.0.0",
      "model_name": "LayoutModel",
      "state": {
       "_model_module": "@jupyter-widgets/base",
       "_model_module_version": "2.0.0",
       "_model_name": "LayoutModel",
       "_view_count": null,
       "_view_module": "@jupyter-widgets/base",
       "_view_module_version": "2.0.0",
       "_view_name": "LayoutView",
       "align_content": null,
       "align_items": null,
       "align_self": null,
       "border_bottom": null,
       "border_left": null,
       "border_right": null,
       "border_top": null,
       "bottom": null,
       "display": null,
       "flex": null,
       "flex_flow": null,
       "grid_area": null,
       "grid_auto_columns": null,
       "grid_auto_flow": null,
       "grid_auto_rows": null,
       "grid_column": null,
       "grid_gap": null,
       "grid_row": null,
       "grid_template_areas": null,
       "grid_template_columns": null,
       "grid_template_rows": null,
       "height": null,
       "justify_content": null,
       "justify_items": null,
       "left": null,
       "margin": null,
       "max_height": null,
       "max_width": null,
       "min_height": null,
       "min_width": null,
       "object_fit": null,
       "object_position": null,
       "order": null,
       "overflow": null,
       "padding": null,
       "right": null,
       "top": null,
       "visibility": null,
       "width": null
      }
     },
     "aca34eb127c7458787bb0aaa21b564ea": {
      "model_module": "@jupyter-widgets/controls",
      "model_module_version": "2.0.0",
      "model_name": "FloatProgressModel",
      "state": {
       "_dom_classes": [],
       "_model_module": "@jupyter-widgets/controls",
       "_model_module_version": "2.0.0",
       "_model_name": "FloatProgressModel",
       "_view_count": null,
       "_view_module": "@jupyter-widgets/controls",
       "_view_module_version": "2.0.0",
       "_view_name": "ProgressView",
       "bar_style": "success",
       "description": "",
       "description_allow_html": false,
       "layout": "IPY_MODEL_633f5e22ceac439f99bcd6673a6596d7",
       "max": 424.0,
       "min": 0.0,
       "orientation": "horizontal",
       "style": "IPY_MODEL_bf46def79edd41e09f5a4e6da9dcb061",
       "tabbable": null,
       "tooltip": null,
       "value": 424.0
      }
     },
     "bf46def79edd41e09f5a4e6da9dcb061": {
      "model_module": "@jupyter-widgets/controls",
      "model_module_version": "2.0.0",
      "model_name": "ProgressStyleModel",
      "state": {
       "_model_module": "@jupyter-widgets/controls",
       "_model_module_version": "2.0.0",
       "_model_name": "ProgressStyleModel",
       "_view_count": null,
       "_view_module": "@jupyter-widgets/base",
       "_view_module_version": "2.0.0",
       "_view_name": "StyleView",
       "bar_color": null,
       "description_width": ""
      }
     }
    },
    "version_major": 2,
    "version_minor": 0
   }
  }
 },
 "nbformat": 4,
 "nbformat_minor": 5
}
